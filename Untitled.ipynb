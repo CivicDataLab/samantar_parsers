{
 "cells": [
  {
   "cell_type": "code",
   "execution_count": 10,
   "metadata": {},
   "outputs": [
    {
     "name": "stdout",
     "output_type": "stream",
     "text": [
      "mkdir: cannot create directory ‘data/hindi/imgs’: File exists\r\n"
     ]
    }
   ],
   "source": [
    "import os\n",
    "import subprocess\n",
    "from pdf2image import convert_from_path\n",
    "\n",
    "!mkdir -p data/hindi/imgs"
   ]
  },
  {
   "cell_type": "code",
   "execution_count": 11,
   "metadata": {},
   "outputs": [],
   "source": [
    "idir = \"data/hindi/\"\n",
    "odir = \"data/hindi/imgs/\""
   ]
  },
  {
   "cell_type": "code",
   "execution_count": 12,
   "metadata": {},
   "outputs": [],
   "source": [
    "## converting pdfs to imgs (bulk conversion)\n",
    "for file in os.listdir(idir):\n",
    "    if file.endswith('.pdf'):\n",
    "        ifile = idir + file\n",
    "        filename = file.split('.')[0]\n",
    "        pil_images = convert_from_path(ifile, dpi=500,  fmt='jpg', thread_count=8)\n",
    "        index = 1\n",
    "        for image in pil_images:\n",
    "            image.save(odir + filename + \"_page_\" + str(index) + \".jpg\")\n",
    "            index += 1\n",
    "#         ofile = filename.split('.')[0]\n",
    "#         if odir:\n",
    "#             ofile = odir + ofile\n",
    "#         ifile = idir + filename\n",
    "#         subprocess.call(['python', 'pdf2jpg.py', \"--filename\",  ifile, \"--path\", ofile])"
   ]
  },
  {
   "cell_type": "code",
   "execution_count": 9,
   "metadata": {},
   "outputs": [],
   "source": []
  },
  {
   "cell_type": "code",
   "execution_count": null,
   "metadata": {},
   "outputs": [],
   "source": []
  }
 ],
 "metadata": {
  "kernelspec": {
   "display_name": "Python 3",
   "language": "python",
   "name": "python3"
  },
  "language_info": {
   "codemirror_mode": {
    "name": "ipython",
    "version": 3
   },
   "file_extension": ".py",
   "mimetype": "text/x-python",
   "name": "python",
   "nbconvert_exporter": "python",
   "pygments_lexer": "ipython3",
   "version": "3.7.4"
  }
 },
 "nbformat": 4,
 "nbformat_minor": 2
}

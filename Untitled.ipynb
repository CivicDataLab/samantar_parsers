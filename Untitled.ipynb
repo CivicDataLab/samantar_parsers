{
 "cells": [
  {
   "cell_type": "code",
   "execution_count": 10,
   "metadata": {},
   "outputs": [
    {
     "name": "stdout",
     "output_type": "stream",
     "text": [
      "mkdir: cannot create directory ‘data/hindi/imgs’: File exists\r\n"
     ]
    }
   ],
   "source": [
    "import os\n",
    "import subprocess\n",
    "from pdf2image import convert_from_path\n",
    "\n",
    "!mkdir -p data/hindi/imgs"
   ]
  },
  {
   "cell_type": "code",
   "execution_count": 11,
   "metadata": {},
   "outputs": [],
   "source": [
    "idir = \"data/hindi/\"\n",
    "odir = \"data/hindi/imgs/\""
   ]
  },
  {
   "cell_type": "code",
   "execution_count": 12,
   "metadata": {},
   "outputs": [],
   "source": [
    "## converting pdfs to imgs (bulk conversion)\n",
    "for file in os.listdir(idir):\n",
    "    if file.endswith('.pdf'):\n",
    "        ifile = idir + file\n",
    "        filename = file.split('.')[0]\n",
    "        pil_images = convert_from_path(ifile, dpi=500,  fmt='jpg', thread_count=8)\n",
    "        index = 1\n",
    "        for image in pil_images:\n",
    "            image.save(odir + filename + \"_page_\" + str(index) + \".jpg\")\n",
    "            index += 1\n",
    "#         ofile = filename.split('.')[0]\n",
    "#         if odir:\n",
    "#             ofile = odir + ofile\n",
    "#         ifile = idir + filename\n",
    "#         subprocess.call(['python', 'pdf2jpg.py', \"--filename\",  ifile, \"--path\", ofile])"
   ]
  },
  {
   "cell_type": "code",
   "execution_count": 2,
   "metadata": {},
   "outputs": [
    {
     "ename": "NameError",
     "evalue": "name 'os' is not defined",
     "output_type": "error",
     "traceback": [
      "\u001b[0;31m---------------------------------------------------------------------------\u001b[0m",
      "\u001b[0;31mNameError\u001b[0m                                 Traceback (most recent call last)",
      "\u001b[0;32m<ipython-input-2-93ca655b993b>\u001b[0m in \u001b[0;36m<module>\u001b[0;34m\u001b[0m\n\u001b[1;32m      1\u001b[0m \u001b[0;31m## converting pdfs to imgs (bulk conversion)\u001b[0m\u001b[0;34m\u001b[0m\u001b[0;34m\u001b[0m\u001b[0;34m\u001b[0m\u001b[0m\n\u001b[0;32m----> 2\u001b[0;31m \u001b[0;32mfor\u001b[0m \u001b[0mfile\u001b[0m \u001b[0;32min\u001b[0m \u001b[0mos\u001b[0m\u001b[0;34m.\u001b[0m\u001b[0mlistdir\u001b[0m\u001b[0;34m(\u001b[0m\u001b[0midir\u001b[0m\u001b[0;34m)\u001b[0m\u001b[0;34m:\u001b[0m\u001b[0;34m\u001b[0m\u001b[0;34m\u001b[0m\u001b[0m\n\u001b[0m\u001b[1;32m      3\u001b[0m     \u001b[0;32mif\u001b[0m \u001b[0mfile\u001b[0m\u001b[0;34m.\u001b[0m\u001b[0mendswith\u001b[0m\u001b[0;34m(\u001b[0m\u001b[0;34m'.jpg'\u001b[0m\u001b[0;34m)\u001b[0m\u001b[0;34m:\u001b[0m\u001b[0;34m\u001b[0m\u001b[0;34m\u001b[0m\u001b[0m\n\u001b[1;32m      4\u001b[0m         \u001b[0mifile\u001b[0m \u001b[0;34m=\u001b[0m \u001b[0midir\u001b[0m \u001b[0;34m+\u001b[0m \u001b[0mfile\u001b[0m\u001b[0;34m\u001b[0m\u001b[0;34m\u001b[0m\u001b[0m\n\u001b[1;32m      5\u001b[0m         \u001b[0mfilename\u001b[0m \u001b[0;34m=\u001b[0m \u001b[0mfile\u001b[0m\u001b[0;34m.\u001b[0m\u001b[0msplit\u001b[0m\u001b[0;34m(\u001b[0m\u001b[0;34m'.'\u001b[0m\u001b[0;34m)\u001b[0m\u001b[0;34m[\u001b[0m\u001b[0;36m0\u001b[0m\u001b[0;34m]\u001b[0m\u001b[0;34m\u001b[0m\u001b[0;34m\u001b[0m\u001b[0m\n",
      "\u001b[0;31mNameError\u001b[0m: name 'os' is not defined"
     ]
    }
   ],
   "source": [
    "## converting imgs to text only pdfs (bulk conversion)\n",
    "for file in os.listdir(idir):\n",
    "    if file.endswith('.jpg'):\n",
    "        ifile = idir + file\n",
    "        filename = file.split('.')[0]\n",
    "        ofile = filename.split('.')[0]\n",
    "        if odir:\n",
    "            ofile = odir + ofile\n",
    "        ifile = idir + filename\n",
    "        subprocess.call(['tesseract', ifile, ofile, \"-l\", \"eng+hin\", \"pdf\"])"
   ]
  },
  {
   "cell_type": "code",
   "execution_count": null,
   "metadata": {},
   "outputs": [],
   "source": []
  },
  {
   "cell_type": "code",
   "execution_count": 4,
   "metadata": {},
   "outputs": [
    {
     "ename": "SyntaxError",
     "evalue": "invalid syntax (<ipython-input-4-0653351530e7>, line 8)",
     "output_type": "error",
     "traceback": [
      "\u001b[0;36m  File \u001b[0;32m\"<ipython-input-4-0653351530e7>\"\u001b[0;36m, line \u001b[0;32m8\u001b[0m\n\u001b[0;31m    ofile = odir + ofile +\u001b[0m\n\u001b[0m                           ^\u001b[0m\n\u001b[0;31mSyntaxError\u001b[0m\u001b[0;31m:\u001b[0m invalid syntax\n"
     ]
    }
   ],
   "source": [
    "## converting text only pdfs to text files (bulk conversion)\n",
    "for file in os.listdir(idir):\n",
    "    if file.endswith('.pdf'):\n",
    "        ifile = idir + file\n",
    "        filename = file.split('.')[0]\n",
    "        ofile = filename.split('.')[0] + \".pdf\"\n",
    "        if odir:\n",
    "            ofile = odir + ofile\n",
    "        ifile = idir + filename\n",
    "        subprocess.call(['tabula', ifile, \"-o\", ofile])"
   ]
  }
 ],
 "metadata": {
  "kernelspec": {
   "display_name": "Python 3",
   "language": "python",
   "name": "python3"
  },
  "language_info": {
   "codemirror_mode": {
    "name": "ipython",
    "version": 3
   },
   "file_extension": ".py",
   "mimetype": "text/x-python",
   "name": "python",
   "nbconvert_exporter": "python",
   "pygments_lexer": "ipython3",
   "version": "3.7.4"
  }
 },
 "nbformat": 4,
 "nbformat_minor": 2
}

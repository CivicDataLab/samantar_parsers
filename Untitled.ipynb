{
 "cells": [
  {
   "cell_type": "code",
   "execution_count": 1,
   "metadata": {},
   "outputs": [],
   "source": [
    "import os\n",
    "import subprocess\n",
    "!mkdir /home/akhilesh/civicdatalab/samantar_parsers/data/hindi/imgs"
   ]
  },
  {
   "cell_type": "code",
   "execution_count": 2,
   "metadata": {},
   "outputs": [],
   "source": [
    "idir = \"/home/akhilesh/civicdatalab/samantar_parsers/data/hindi/\"\n",
    "odir = \"/home/akhilesh/civicdatalab/samantar_parsers/data/hindi/imgs/\""
   ]
  },
  {
   "cell_type": "code",
   "execution_count": null,
   "metadata": {},
   "outputs": [],
   "source": [
    "## converting pdfs to imgs (bulk conversion)\n",
    "for filename in os.listdir(idir):\n",
    "    if filename.endswith('.pdf'):\n",
    "        ofile = filename.split('.')[0] + \".\" + \"jpg\"\n",
    "        if odir:\n",
    "            ofile = odir + ofile\n",
    "        ifile = idir + filename\n",
    "        subprocess.call(['python', 'pdf2jpg.py', \"--filename\",  ifile, \"--path\", ofile])"
   ]
  },
  {
   "cell_type": "code",
   "execution_count": 9,
   "metadata": {},
   "outputs": [],
   "source": []
  },
  {
   "cell_type": "code",
   "execution_count": null,
   "metadata": {},
   "outputs": [],
   "source": []
  }
 ],
 "metadata": {
  "kernelspec": {
   "display_name": "Python 3",
   "language": "python",
   "name": "python3"
  },
  "language_info": {
   "codemirror_mode": {
    "name": "ipython",
    "version": 3
   },
   "file_extension": ".py",
   "mimetype": "text/x-python",
   "name": "python",
   "nbconvert_exporter": "python",
   "pygments_lexer": "ipython3",
   "version": "3.7.4"
  }
 },
 "nbformat": 4,
 "nbformat_minor": 2
}
